{
 "cells": [
  {
   "cell_type": "code",
   "execution_count": null,
   "id": "bc2026f7-c0d6-4a4d-8cb7-77c2466e9e0a",
   "metadata": {
    "tags": []
   },
   "outputs": [],
   "source": []
  },
  {
   "cell_type": "code",
   "execution_count": 1,
   "id": "5a570e3a-2e0e-4211-b384-a2d39ba4ee23",
   "metadata": {
    "tags": []
   },
   "outputs": [
    {
     "ename": "ValueError",
     "evalue": "Frequency indices are not unique. KDE requires unique frequencies.",
     "output_type": "error",
     "traceback": [
      "\u001b[1;31m---------------------------------------------------------------------------\u001b[0m",
      "\u001b[1;31mValueError\u001b[0m                                Traceback (most recent call last)",
      "Cell \u001b[1;32mIn[1], line 32\u001b[0m\n\u001b[0;32m     26\u001b[0m \u001b[38;5;66;03m# ... [previous code] ...\u001b[39;00m\n\u001b[0;32m     27\u001b[0m \n\u001b[0;32m     28\u001b[0m \u001b[38;5;66;03m# ... [previous code] ...\u001b[39;00m\n\u001b[0;32m     29\u001b[0m \n\u001b[0;32m     30\u001b[0m \u001b[38;5;66;03m# Check if the frequency indices are unique\u001b[39;00m\n\u001b[0;32m     31\u001b[0m \u001b[38;5;28;01mif\u001b[39;00m \u001b[38;5;129;01mnot\u001b[39;00m numeric_indices\u001b[38;5;241m.\u001b[39mis_unique:\n\u001b[1;32m---> 32\u001b[0m     \u001b[38;5;28;01mraise\u001b[39;00m \u001b[38;5;167;01mValueError\u001b[39;00m(\u001b[38;5;124m\"\u001b[39m\u001b[38;5;124mFrequency indices are not unique. KDE requires unique frequencies.\u001b[39m\u001b[38;5;124m\"\u001b[39m)\n\u001b[0;32m     34\u001b[0m \u001b[38;5;66;03m# KDE Calculation\u001b[39;00m\n\u001b[0;32m     35\u001b[0m \u001b[38;5;28;01mfor\u001b[39;00m i, freq \u001b[38;5;129;01min\u001b[39;00m \u001b[38;5;28menumerate\u001b[39m(numeric_indices):\n\u001b[0;32m     36\u001b[0m     \u001b[38;5;66;03m# Extract the data for the current frequency, handling potential non-numeric indices\u001b[39;00m\n",
      "\u001b[1;31mValueError\u001b[0m: Frequency indices are not unique. KDE requires unique frequencies."
     ]
    }
   ],
   "source": [
    "import pandas as pd\n",
    "import numpy as np\n",
    "import matplotlib.pyplot as plt\n",
    "from scipy.stats import gaussian_kde\n",
    "\n",
    "# Load the data\n",
    "file_path = 'D:/ET/13210000-25200/Results/FISP_2023-05-13-210000-415-10-4-150-4-150-1.5-10_TPrKHZsnr.DAT'\n",
    "data = pd.read_csv(file_path, delimiter='\\t', header=0, index_col=0)\n",
    "\n",
    "# Initialize a grid where the KDE will be evaluated\n",
    "grid_size = 100  # Determines the resolution of the KDE evaluation\n",
    "\n",
    "# Convert the index to numeric values if they are not already\n",
    "numeric_indices = pd.to_numeric(data.index, errors='coerce')\n",
    "\n",
    "# Now we can safely calculate the min and max\n",
    "y_grid = np.linspace(numeric_indices.min(), numeric_indices.max(), grid_size)\n",
    "\n",
    "x_grid = np.linspace(data.columns.min(), data.columns.max(), grid_size)\n",
    "#y_grid = np.linspace(data.index.min(), data.index.max(), grid_size)\n",
    "X, Y = np.meshgrid(x_grid, y_grid)\n",
    "\n",
    "# Initialize the density matrix\n",
    "density = np.zeros(X.shape)\n",
    "\n",
    "# ... [previous code] ...\n",
    "\n",
    "# ... [previous code] ...\n",
    "\n",
    "# Check if the frequency indices are unique\n",
    "if not numeric_indices.is_unique:\n",
    "    raise ValueError(\"Frequency indices are not unique. KDE requires unique frequencies.\")\n",
    "\n",
    "# KDE Calculation\n",
    "for i, freq in enumerate(numeric_indices):\n",
    "    # Extract the data for the current frequency, handling potential non-numeric indices\n",
    "    frequency_data = data.loc[data.index[i]].dropna()\n",
    "\n",
    "    # Check if the frequency data has enough points for KDE\n",
    "    if len(frequency_data) > 1:\n",
    "        # Calculate KDE for each frequency\n",
    "        kde = gaussian_kde(frequency_data)\n",
    "        # Evaluate the density on the x grid\n",
    "        density[:, i] = kde(x_grid)\n",
    "    else:\n",
    "        # Handle the case where there's not enough data\n",
    "        density[:, i] = np.nan  # Assign NaN or some other placeholder value\n",
    "\n",
    "# ... [rest of the code] ...\n",
    "\n",
    "# ... [rest of the code] ...\n",
    "\n",
    "# Plotting the contour plot\n",
    "plt.figure(figsize=(12, 6))\n",
    "contour = plt.contourf(X, Y, density, cmap='viridis', levels=100)\n",
    "plt.colorbar(contour)\n",
    "plt.xlabel('Data Values')\n",
    "plt.ylabel('Frequency [Hz]')\n",
    "plt.title('Kernel Density Estimate Contour Plot')\n",
    "plt.show()"
   ]
  },
  {
   "cell_type": "code",
   "execution_count": null,
   "id": "3e18b50c-eccd-4dbc-9772-b75da4691380",
   "metadata": {},
   "outputs": [],
   "source": []
  }
 ],
 "metadata": {
  "kernelspec": {
   "display_name": "Python 3 (ipykernel)",
   "language": "python",
   "name": "python3"
  },
  "language_info": {
   "codemirror_mode": {
    "name": "ipython",
    "version": 3
   },
   "file_extension": ".py",
   "mimetype": "text/x-python",
   "name": "python",
   "nbconvert_exporter": "python",
   "pygments_lexer": "ipython3",
   "version": "3.11.5"
  }
 },
 "nbformat": 4,
 "nbformat_minor": 5
}
